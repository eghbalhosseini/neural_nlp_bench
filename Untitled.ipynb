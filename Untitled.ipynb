{
 "cells": [
  {
   "cell_type": "code",
   "execution_count": 1,
   "metadata": {},
   "outputs": [],
   "source": [
    "#!pip install pandas\n",
    "import pickle as pkl\n",
    "import os\n",
    "import pandas as pd\n",
    "import matplotlib.pyplot as plt\n",
    "import matplotlib.cm as cm\n",
    "import numpy as np\n",
    "#%% \n",
    "import getpass\n",
    "import sys\n",
    "import pickle\n",
    "import xarray as xr"
   ]
  },
  {
   "cell_type": "code",
   "execution_count": 26,
   "metadata": {},
   "outputs": [
    {
     "name": "stdout",
     "output_type": "stream",
     "text": [
      "ehoseini\n"
     ]
    }
   ],
   "source": [
    "user=getpass.getuser()\n",
    "print(user)\n",
    "if user=='eghbalhosseini':\n",
    "    analysis_dir='/Users/eghbalhosseini/MyData/neural_nlp_bench/analysis/roberta/'\n",
    "    result_dir='/Users/eghbalhosseini/.result_caching/neural_nlp.score'\n",
    "elif user=='ehoseini':\n",
    "    analysis_dir='/om/weka/evlab/ehoseini/MyData/neural_nlp_bench/analysis/roberta/'\n",
    "    result_dir='/om/weka/evlab/ehoseini/.result_caching/neural_nlp.score'\n",
    "\n",
    "martins_data='/braintree/home/msch/.result_caching/neural_nlp.score'\n",
    "martins_data='/om/weka/evlab/ehoseini/.result_caching/neural_nlp.score/from_martin'"
   ]
  },
  {
   "cell_type": "code",
   "execution_count": 39,
   "metadata": {},
   "outputs": [],
   "source": [
    "base='gpt2-large'\n",
    "#benchmark='Blank2014fROI-encoding'\n",
    "#benchmark='Pereira2018-encoding'\n",
    "benchmark='Fedorenko2016v3-encoding'\n",
    "base_file='benchmark='+benchmark+',model='+base+',subsample=None.pkl'"
   ]
  },
  {
   "cell_type": "code",
   "execution_count": 40,
   "metadata": {},
   "outputs": [
    {
     "name": "stdout",
     "output_type": "stream",
     "text": [
      "martin_base\n"
     ]
    }
   ],
   "source": [
    "martin_base=pd.read_pickle(os.path.join(martins_data,base_file))\n",
    "martin_base=martin_base['data']\n",
    "print('martin_base')"
   ]
  },
  {
   "cell_type": "code",
   "execution_count": 41,
   "metadata": {},
   "outputs": [
    {
     "data": {
      "text/plain": [
       "<xarray.Score (layer: 37, aggregation: 2)>\n",
       "array([[ 0.002798,  0.120389],\n",
       "       [ 0.054453,  0.068571],\n",
       "       [ 0.055696,  0.119795],\n",
       "       [ 0.015102,  0.033628],\n",
       "       [ 0.007469,  0.082402],\n",
       "       [ 0.060492,  0.127878],\n",
       "       [ 0.105832,  0.030894],\n",
       "       [ 0.150875,  0.15537 ],\n",
       "       [ 0.244977,  0.223701],\n",
       "       [ 0.110892,  0.103452],\n",
       "       [ 0.456501,  0.214371],\n",
       "       [ 0.499369,  0.207811],\n",
       "       [ 0.539588,  0.338457],\n",
       "       [ 0.350742,  0.071075],\n",
       "       [ 0.171765,  0.111244],\n",
       "       [ 0.64461 ,  0.282483],\n",
       "       [ 0.508702,  0.293793],\n",
       "       [ 0.582148,  0.248442],\n",
       "       [ 0.392575,  0.165512],\n",
       "       [ 0.517163,  0.330143],\n",
       "       [ 0.233788,  0.178522],\n",
       "       [ 0.655451,  0.289543],\n",
       "       [ 0.500135,  0.19605 ],\n",
       "       [ 0.200508,  0.222824],\n",
       "       [ 0.70145 ,  0.224402],\n",
       "       [ 0.190237,  0.091605],\n",
       "       [ 0.262585,  0.236809],\n",
       "       [ 0.317347,  0.174407],\n",
       "       [ 0.639011,  0.293201],\n",
       "       [ 0.919002,  0.468356],\n",
       "       [ 0.564024,  0.259393],\n",
       "       [ 0.581643,  0.188183],\n",
       "       [ 0.665286,  0.332508],\n",
       "       [ 0.220515,  0.121451],\n",
       "       [ 0.163856,  0.084429],\n",
       "       [-0.050397,  0.303227],\n",
       "       [-0.036053,  0.188077]])\n",
       "Coordinates:\n",
       "  * layer        (layer) object 'drop' 'encoder.h.0' ... 'encoder.h.35'\n",
       "  * aggregation  (aggregation) <U6 'center' 'error'\n",
       "Attributes:\n",
       "    raw:          <xarray.Score (layer: 37, neuroid: 97)>\\narray([[ 0.013478,...\n",
       "    description:  per-neuroid ceiling-normalized score\n",
       "    ceiling:      <xarray.Score (aggregation: 3)>\\narray([0.168649, 0.052784,...\n",
       "    model:        gpt2-large\n",
       "    benchmark:    Fedorenko2016v3-encoding"
      ]
     },
     "execution_count": 41,
     "metadata": {},
     "output_type": "execute_result"
    }
   ],
   "source": [
    "martin_base"
   ]
  },
  {
   "cell_type": "code",
   "execution_count": null,
   "metadata": {},
   "outputs": [],
   "source": []
  },
  {
   "cell_type": "code",
   "execution_count": null,
   "metadata": {},
   "outputs": [],
   "source": []
  }
 ],
 "metadata": {
  "kernelspec": {
   "display_name": "Python 3",
   "language": "python",
   "name": "python3"
  },
  "language_info": {
   "codemirror_mode": {
    "name": "ipython",
    "version": 3
   },
   "file_extension": ".py",
   "mimetype": "text/x-python",
   "name": "python",
   "nbconvert_exporter": "python",
   "pygments_lexer": "ipython3",
   "version": "3.6.10"
  }
 },
 "nbformat": 4,
 "nbformat_minor": 4
}
